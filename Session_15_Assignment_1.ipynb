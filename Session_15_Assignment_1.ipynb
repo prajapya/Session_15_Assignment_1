{
 "cells": [
  {
   "cell_type": "code",
   "execution_count": 1,
   "metadata": {},
   "outputs": [],
   "source": [
    "import numpy as np\n",
    "import pandas as pd\n",
    "import matplotlib.pyplot as plt\n",
    "from sklearn.preprocessing import Imputer\n",
    "from sklearn.model_selection import train_test_split, cross_val_score\n",
    "from sklearn.neighbors import KNeighborsRegressor\n",
    "from sklearn.metrics import accuracy_score, mean_absolute_error, mean_squared_error\n",
    "import seaborn as sns\n",
    "import math"
   ]
  },
  {
   "cell_type": "code",
   "execution_count": 2,
   "metadata": {},
   "outputs": [],
   "source": [
    "with open(\"nba_2013.csv\", 'r') as csvfile:\n",
    "    nba = pd.read_csv(csvfile)"
   ]
  },
  {
   "cell_type": "code",
   "execution_count": 3,
   "metadata": {},
   "outputs": [
    {
     "data": {
      "text/html": [
       "<div>\n",
       "<style scoped>\n",
       "    .dataframe tbody tr th:only-of-type {\n",
       "        vertical-align: middle;\n",
       "    }\n",
       "\n",
       "    .dataframe tbody tr th {\n",
       "        vertical-align: top;\n",
       "    }\n",
       "\n",
       "    .dataframe thead th {\n",
       "        text-align: right;\n",
       "    }\n",
       "</style>\n",
       "<table border=\"1\" class=\"dataframe\">\n",
       "  <thead>\n",
       "    <tr style=\"text-align: right;\">\n",
       "      <th></th>\n",
       "      <th>player</th>\n",
       "      <th>pos</th>\n",
       "      <th>age</th>\n",
       "      <th>bref_team_id</th>\n",
       "      <th>g</th>\n",
       "      <th>gs</th>\n",
       "      <th>mp</th>\n",
       "      <th>fg</th>\n",
       "      <th>fga</th>\n",
       "      <th>fg.</th>\n",
       "      <th>...</th>\n",
       "      <th>drb</th>\n",
       "      <th>trb</th>\n",
       "      <th>ast</th>\n",
       "      <th>stl</th>\n",
       "      <th>blk</th>\n",
       "      <th>tov</th>\n",
       "      <th>pf</th>\n",
       "      <th>pts</th>\n",
       "      <th>season</th>\n",
       "      <th>season_end</th>\n",
       "    </tr>\n",
       "  </thead>\n",
       "  <tbody>\n",
       "    <tr>\n",
       "      <th>0</th>\n",
       "      <td>Quincy Acy</td>\n",
       "      <td>SF</td>\n",
       "      <td>23</td>\n",
       "      <td>TOT</td>\n",
       "      <td>63</td>\n",
       "      <td>0</td>\n",
       "      <td>847</td>\n",
       "      <td>66</td>\n",
       "      <td>141</td>\n",
       "      <td>0.468</td>\n",
       "      <td>...</td>\n",
       "      <td>144</td>\n",
       "      <td>216</td>\n",
       "      <td>28</td>\n",
       "      <td>23</td>\n",
       "      <td>26</td>\n",
       "      <td>30</td>\n",
       "      <td>122</td>\n",
       "      <td>171</td>\n",
       "      <td>2013-2014</td>\n",
       "      <td>2013</td>\n",
       "    </tr>\n",
       "    <tr>\n",
       "      <th>1</th>\n",
       "      <td>Steven Adams</td>\n",
       "      <td>C</td>\n",
       "      <td>20</td>\n",
       "      <td>OKC</td>\n",
       "      <td>81</td>\n",
       "      <td>20</td>\n",
       "      <td>1197</td>\n",
       "      <td>93</td>\n",
       "      <td>185</td>\n",
       "      <td>0.503</td>\n",
       "      <td>...</td>\n",
       "      <td>190</td>\n",
       "      <td>332</td>\n",
       "      <td>43</td>\n",
       "      <td>40</td>\n",
       "      <td>57</td>\n",
       "      <td>71</td>\n",
       "      <td>203</td>\n",
       "      <td>265</td>\n",
       "      <td>2013-2014</td>\n",
       "      <td>2013</td>\n",
       "    </tr>\n",
       "    <tr>\n",
       "      <th>2</th>\n",
       "      <td>Jeff Adrien</td>\n",
       "      <td>PF</td>\n",
       "      <td>27</td>\n",
       "      <td>TOT</td>\n",
       "      <td>53</td>\n",
       "      <td>12</td>\n",
       "      <td>961</td>\n",
       "      <td>143</td>\n",
       "      <td>275</td>\n",
       "      <td>0.520</td>\n",
       "      <td>...</td>\n",
       "      <td>204</td>\n",
       "      <td>306</td>\n",
       "      <td>38</td>\n",
       "      <td>24</td>\n",
       "      <td>36</td>\n",
       "      <td>39</td>\n",
       "      <td>108</td>\n",
       "      <td>362</td>\n",
       "      <td>2013-2014</td>\n",
       "      <td>2013</td>\n",
       "    </tr>\n",
       "    <tr>\n",
       "      <th>3</th>\n",
       "      <td>Arron Afflalo</td>\n",
       "      <td>SG</td>\n",
       "      <td>28</td>\n",
       "      <td>ORL</td>\n",
       "      <td>73</td>\n",
       "      <td>73</td>\n",
       "      <td>2552</td>\n",
       "      <td>464</td>\n",
       "      <td>1011</td>\n",
       "      <td>0.459</td>\n",
       "      <td>...</td>\n",
       "      <td>230</td>\n",
       "      <td>262</td>\n",
       "      <td>248</td>\n",
       "      <td>35</td>\n",
       "      <td>3</td>\n",
       "      <td>146</td>\n",
       "      <td>136</td>\n",
       "      <td>1330</td>\n",
       "      <td>2013-2014</td>\n",
       "      <td>2013</td>\n",
       "    </tr>\n",
       "    <tr>\n",
       "      <th>4</th>\n",
       "      <td>Alexis Ajinca</td>\n",
       "      <td>C</td>\n",
       "      <td>25</td>\n",
       "      <td>NOP</td>\n",
       "      <td>56</td>\n",
       "      <td>30</td>\n",
       "      <td>951</td>\n",
       "      <td>136</td>\n",
       "      <td>249</td>\n",
       "      <td>0.546</td>\n",
       "      <td>...</td>\n",
       "      <td>183</td>\n",
       "      <td>277</td>\n",
       "      <td>40</td>\n",
       "      <td>23</td>\n",
       "      <td>46</td>\n",
       "      <td>63</td>\n",
       "      <td>187</td>\n",
       "      <td>328</td>\n",
       "      <td>2013-2014</td>\n",
       "      <td>2013</td>\n",
       "    </tr>\n",
       "  </tbody>\n",
       "</table>\n",
       "<p>5 rows × 31 columns</p>\n",
       "</div>"
      ],
      "text/plain": [
       "          player pos  age bref_team_id   g  gs    mp   fg   fga    fg.  \\\n",
       "0     Quincy Acy  SF   23          TOT  63   0   847   66   141  0.468   \n",
       "1   Steven Adams   C   20          OKC  81  20  1197   93   185  0.503   \n",
       "2    Jeff Adrien  PF   27          TOT  53  12   961  143   275  0.520   \n",
       "3  Arron Afflalo  SG   28          ORL  73  73  2552  464  1011  0.459   \n",
       "4  Alexis Ajinca   C   25          NOP  56  30   951  136   249  0.546   \n",
       "\n",
       "      ...      drb  trb  ast  stl  blk  tov   pf   pts     season  season_end  \n",
       "0     ...      144  216   28   23   26   30  122   171  2013-2014        2013  \n",
       "1     ...      190  332   43   40   57   71  203   265  2013-2014        2013  \n",
       "2     ...      204  306   38   24   36   39  108   362  2013-2014        2013  \n",
       "3     ...      230  262  248   35    3  146  136  1330  2013-2014        2013  \n",
       "4     ...      183  277   40   23   46   63  187   328  2013-2014        2013  \n",
       "\n",
       "[5 rows x 31 columns]"
      ]
     },
     "execution_count": 3,
     "metadata": {},
     "output_type": "execute_result"
    }
   ],
   "source": [
    "nba.head()"
   ]
  },
  {
   "cell_type": "code",
   "execution_count": 4,
   "metadata": {},
   "outputs": [
    {
     "name": "stdout",
     "output_type": "stream",
     "text": [
      "<class 'pandas.core.frame.DataFrame'>\n",
      "RangeIndex: 481 entries, 0 to 480\n",
      "Data columns (total 31 columns):\n",
      "player          481 non-null object\n",
      "pos             481 non-null object\n",
      "age             481 non-null int64\n",
      "bref_team_id    481 non-null object\n",
      "g               481 non-null int64\n",
      "gs              481 non-null int64\n",
      "mp              481 non-null int64\n",
      "fg              481 non-null int64\n",
      "fga             481 non-null int64\n",
      "fg.             479 non-null float64\n",
      "x3p             481 non-null int64\n",
      "x3pa            481 non-null int64\n",
      "x3p.            414 non-null float64\n",
      "x2p             481 non-null int64\n",
      "x2pa            481 non-null int64\n",
      "x2p.            478 non-null float64\n",
      "efg.            479 non-null float64\n",
      "ft              481 non-null int64\n",
      "fta             481 non-null int64\n",
      "ft.             461 non-null float64\n",
      "orb             481 non-null int64\n",
      "drb             481 non-null int64\n",
      "trb             481 non-null int64\n",
      "ast             481 non-null int64\n",
      "stl             481 non-null int64\n",
      "blk             481 non-null int64\n",
      "tov             481 non-null int64\n",
      "pf              481 non-null int64\n",
      "pts             481 non-null int64\n",
      "season          481 non-null object\n",
      "season_end      481 non-null int64\n",
      "dtypes: float64(5), int64(22), object(4)\n",
      "memory usage: 116.6+ KB\n"
     ]
    }
   ],
   "source": [
    "nba.info()"
   ]
  },
  {
   "cell_type": "code",
   "execution_count": 5,
   "metadata": {},
   "outputs": [
    {
     "data": {
      "text/html": [
       "<div>\n",
       "<style scoped>\n",
       "    .dataframe tbody tr th:only-of-type {\n",
       "        vertical-align: middle;\n",
       "    }\n",
       "\n",
       "    .dataframe tbody tr th {\n",
       "        vertical-align: top;\n",
       "    }\n",
       "\n",
       "    .dataframe thead th {\n",
       "        text-align: right;\n",
       "    }\n",
       "</style>\n",
       "<table border=\"1\" class=\"dataframe\">\n",
       "  <thead>\n",
       "    <tr style=\"text-align: right;\">\n",
       "      <th></th>\n",
       "      <th>player</th>\n",
       "      <th>pos</th>\n",
       "      <th>age</th>\n",
       "      <th>bref_team_id</th>\n",
       "      <th>g</th>\n",
       "      <th>gs</th>\n",
       "      <th>mp</th>\n",
       "      <th>fg</th>\n",
       "      <th>fga</th>\n",
       "      <th>fg.</th>\n",
       "      <th>...</th>\n",
       "      <th>drb</th>\n",
       "      <th>trb</th>\n",
       "      <th>ast</th>\n",
       "      <th>stl</th>\n",
       "      <th>blk</th>\n",
       "      <th>tov</th>\n",
       "      <th>pf</th>\n",
       "      <th>pts</th>\n",
       "      <th>season</th>\n",
       "      <th>season_end</th>\n",
       "    </tr>\n",
       "  </thead>\n",
       "  <tbody>\n",
       "    <tr>\n",
       "      <th>90</th>\n",
       "      <td>Josh Childress</td>\n",
       "      <td>SF</td>\n",
       "      <td>30</td>\n",
       "      <td>NOP</td>\n",
       "      <td>4</td>\n",
       "      <td>0</td>\n",
       "      <td>24</td>\n",
       "      <td>0</td>\n",
       "      <td>0</td>\n",
       "      <td>NaN</td>\n",
       "      <td>...</td>\n",
       "      <td>3</td>\n",
       "      <td>3</td>\n",
       "      <td>2</td>\n",
       "      <td>1</td>\n",
       "      <td>0</td>\n",
       "      <td>1</td>\n",
       "      <td>1</td>\n",
       "      <td>0</td>\n",
       "      <td>2013-2014</td>\n",
       "      <td>2013</td>\n",
       "    </tr>\n",
       "    <tr>\n",
       "      <th>397</th>\n",
       "      <td>Chris Smith</td>\n",
       "      <td>PG</td>\n",
       "      <td>26</td>\n",
       "      <td>NYK</td>\n",
       "      <td>2</td>\n",
       "      <td>0</td>\n",
       "      <td>2</td>\n",
       "      <td>0</td>\n",
       "      <td>0</td>\n",
       "      <td>NaN</td>\n",
       "      <td>...</td>\n",
       "      <td>0</td>\n",
       "      <td>0</td>\n",
       "      <td>0</td>\n",
       "      <td>0</td>\n",
       "      <td>0</td>\n",
       "      <td>0</td>\n",
       "      <td>0</td>\n",
       "      <td>0</td>\n",
       "      <td>2013-2014</td>\n",
       "      <td>2013</td>\n",
       "    </tr>\n",
       "  </tbody>\n",
       "</table>\n",
       "<p>2 rows × 31 columns</p>\n",
       "</div>"
      ],
      "text/plain": [
       "             player pos  age bref_team_id  g  gs  mp  fg  fga  fg.  \\\n",
       "90   Josh Childress  SF   30          NOP  4   0  24   0    0  NaN   \n",
       "397     Chris Smith  PG   26          NYK  2   0   2   0    0  NaN   \n",
       "\n",
       "        ...      drb  trb  ast  stl  blk  tov  pf  pts     season  season_end  \n",
       "90      ...        3    3    2    1    0    1   1    0  2013-2014        2013  \n",
       "397     ...        0    0    0    0    0    0   0    0  2013-2014        2013  \n",
       "\n",
       "[2 rows x 31 columns]"
      ]
     },
     "execution_count": 5,
     "metadata": {},
     "output_type": "execute_result"
    }
   ],
   "source": [
    "nba[nba[\"fg.\"].isnull() == True].head()"
   ]
  },
  {
   "cell_type": "code",
   "execution_count": 6,
   "metadata": {},
   "outputs": [
    {
     "data": {
      "text/plain": [
       "SG    109\n",
       "SF     99\n",
       "PF     96\n",
       "C      90\n",
       "PG     85\n",
       "G       1\n",
       "F       1\n",
       "Name: pos, dtype: int64"
      ]
     },
     "execution_count": 6,
     "metadata": {},
     "output_type": "execute_result"
    }
   ],
   "source": [
    "nba.pos.value_counts()"
   ]
  },
  {
   "cell_type": "code",
   "execution_count": 7,
   "metadata": {},
   "outputs": [
    {
     "data": {
      "text/plain": [
       "TOT    63\n",
       "NOP    18\n",
       "OKC    17\n",
       "UTA    16\n",
       "LAC    16\n",
       "Name: bref_team_id, dtype: int64"
      ]
     },
     "execution_count": 7,
     "metadata": {},
     "output_type": "execute_result"
    }
   ],
   "source": [
    "nba.bref_team_id.value_counts().head()"
   ]
  },
  {
   "cell_type": "code",
   "execution_count": 8,
   "metadata": {},
   "outputs": [
    {
     "data": {
      "text/plain": [
       "1.000    13\n",
       "0.500    11\n",
       "0.750     9\n",
       "0.667     7\n",
       "0.000     7\n",
       "Name: ft., dtype: int64"
      ]
     },
     "execution_count": 8,
     "metadata": {},
     "output_type": "execute_result"
    }
   ],
   "source": [
    "nba['ft.'].value_counts().head()"
   ]
  },
  {
   "cell_type": "code",
   "execution_count": 9,
   "metadata": {},
   "outputs": [
    {
     "data": {
      "text/plain": [
       "2013-2014    481\n",
       "Name: season, dtype: int64"
      ]
     },
     "execution_count": 9,
     "metadata": {},
     "output_type": "execute_result"
    }
   ],
   "source": [
    "nba.season.value_counts()"
   ]
  },
  {
   "cell_type": "code",
   "execution_count": 10,
   "metadata": {},
   "outputs": [
    {
     "data": {
      "text/plain": [
       "2013    481\n",
       "Name: season_end, dtype: int64"
      ]
     },
     "execution_count": 10,
     "metadata": {},
     "output_type": "execute_result"
    }
   ],
   "source": [
    "nba.season_end.value_counts()"
   ]
  },
  {
   "cell_type": "code",
   "execution_count": 11,
   "metadata": {},
   "outputs": [],
   "source": [
    "avgfg = nba[\"fg.\"].mean()\n",
    "nba[\"fg.\"] = nba[\"fg.\"].fillna(avgfg) \n",
    "\n",
    "avgx3p = nba[\"x3p.\"].mean()\n",
    "nba[\"x3p.\"] = nba[\"x3p.\"].fillna(avgx3p) \n",
    "\n",
    "avgx2p = nba[\"x2p.\"].mean()\n",
    "nba[\"x2p.\"] = nba[\"x2p.\"].fillna(avgx2p) \n",
    "\n",
    "avgefg = nba[\"efg.\"].mean()\n",
    "nba[\"efg.\"] = nba[\"efg.\"].fillna(avgefg) \n",
    "\n",
    "avgft = nba[\"ft.\"].mean()\n",
    "nba[\"ft.\"] = nba[\"ft.\"].fillna(avgft) "
   ]
  },
  {
   "cell_type": "code",
   "execution_count": 12,
   "metadata": {},
   "outputs": [],
   "source": [
    "nba = nba.join(pd.get_dummies(nba['ft.'], prefix='nba', drop_first=True) )"
   ]
  },
  {
   "cell_type": "code",
   "execution_count": 124,
   "metadata": {},
   "outputs": [
    {
     "data": {
      "text/plain": [
       "array([ 171,  265,  362, 1330,  328,   92, 1603,  303,  701,  495,  572,\n",
       "         38,  477,  564,  810,  436,  525, 2112,   28,  352, 1107,   25,\n",
       "        401,  280,  930,  112,  240,   22,  170,  150,  660,  558,  738,\n",
       "        625,  166,  911,  298, 1070,  666,  161,  403, 1249,  217,  573,\n",
       "          3,   72,  222,  497,  378,  821,  763,    5,   12,  492,  197,\n",
       "        491, 1042, 1281,  891,  419,  998,    7,  645,  159,   64,   63,\n",
       "         83,  274,  115,  895, 1089,  587,  878,  136,   43,  225,  485,\n",
       "        347,  925,  470,  101,  967, 1167,  490,  716,  480,  846,    0,\n",
       "         71,  257,   68,   47,  527,  338, 1256,  153, 1614,   16,   33,\n",
       "       1282,  890,  356,  510,   26, 1873,  529,   42,  144, 1394,  357,\n",
       "        641,   66,  177,   97,  339, 1011, 1791,  717,  286,  202, 1542,\n",
       "       1095,  511, 1119,  929, 2593,    2,  145, 1560,    6,  214, 1096,\n",
       "        416,  164,  970,   19,  630,  425,  638, 1068,   39,  273,  174,\n",
       "        910,  315,  248,  859, 1041, 1457,  258, 1737, 1069,  838,  104,\n",
       "        183,  194,   99,  988,   65,  618, 1295, 1382, 1930,   62,  404,\n",
       "        312,  824, 1851,  592,   93,   73,   84,  893,  173, 1053,  132,\n",
       "       1248, 1081,  432,  779,  871,  814,  754,  781,  696,  487,  141,\n",
       "          1,  538, 1297,  181,  579, 1227,  588, 1478,  760, 1047,   15,\n",
       "       2089,   11,    9, 1594,  831,   40, 1241,  270,  799,  250,  384,\n",
       "       1245,  100,  715,  216,   14,  921,  856,  343,  987,   37,  472,\n",
       "        448,  226, 1291,  850,  514,   20,  191,  665,   76, 1090,  761,\n",
       "       1257,   86,  844,   98,  302,  268, 1695,  629,  908, 2010, 1417,\n",
       "        544,  272,  791,  430,  329,  137, 1298,   74, 1343,  109,   82,\n",
       "        608,  224,  201,   35,  720,  661, 1209,  990,  503,  283,  200,\n",
       "        826, 1328,  124,  499,  107,  796, 1115,  636,  341,   36,  770,\n",
       "        143,  189,  140,  102,  548,  820,  435, 1007,  178, 1735,   44,\n",
       "        349,  429,   67, 1106,  607,  408, 1134, 1226,  555, 1185,  944,\n",
       "        211, 1010,  520,  646,   94,   78,    4,  213,  252,  454,  206,\n",
       "       1372,  532,   32,  306,  530,   75,  677,  457,  350,  879,   79,\n",
       "        626,  767,  383,  249, 1021,   29,  784,   54,  110,  261, 1071,\n",
       "        301, 1264,  346,  508,  483, 1080,   18,  772, 1012,  982,  208,\n",
       "         89, 1304,  622,  138,   27, 1465,  461,  586, 1488,  961,  703,\n",
       "        393,  149, 1131,  146,  916,  546,  758,  811, 1028, 1113, 1289,\n",
       "       1583,   48,  414,  759, 1118, 1002,  915,  624,  603,  721,  190,\n",
       "        417,  139,  939, 1144,  399], dtype=int64)"
      ]
     },
     "execution_count": 124,
     "metadata": {},
     "output_type": "execute_result"
    }
   ],
   "source": [
    "nba.pts.unique()"
   ]
  },
  {
   "cell_type": "code",
   "execution_count": 12,
   "metadata": {},
   "outputs": [],
   "source": [
    "X = nba.drop(nba.columns[[0,1,3,28,29,30]],axis=1) #deleting season, season_end as they are constants.\n",
    "#bref_team_id, player were also removed as player is unique and bref_team_id is a ID only, not a player quality.\n",
    "Y = nba['pts']"
   ]
  },
  {
   "cell_type": "code",
   "execution_count": 13,
   "metadata": {},
   "outputs": [
    {
     "data": {
      "text/html": [
       "<div>\n",
       "<style scoped>\n",
       "    .dataframe tbody tr th:only-of-type {\n",
       "        vertical-align: middle;\n",
       "    }\n",
       "\n",
       "    .dataframe tbody tr th {\n",
       "        vertical-align: top;\n",
       "    }\n",
       "\n",
       "    .dataframe thead th {\n",
       "        text-align: right;\n",
       "    }\n",
       "</style>\n",
       "<table border=\"1\" class=\"dataframe\">\n",
       "  <thead>\n",
       "    <tr style=\"text-align: right;\">\n",
       "      <th></th>\n",
       "      <th>age</th>\n",
       "      <th>g</th>\n",
       "      <th>gs</th>\n",
       "      <th>mp</th>\n",
       "      <th>fg</th>\n",
       "      <th>fga</th>\n",
       "      <th>fg.</th>\n",
       "      <th>x3p</th>\n",
       "      <th>x3pa</th>\n",
       "      <th>x3p.</th>\n",
       "      <th>...</th>\n",
       "      <th>fta</th>\n",
       "      <th>ft.</th>\n",
       "      <th>orb</th>\n",
       "      <th>drb</th>\n",
       "      <th>trb</th>\n",
       "      <th>ast</th>\n",
       "      <th>stl</th>\n",
       "      <th>blk</th>\n",
       "      <th>tov</th>\n",
       "      <th>pf</th>\n",
       "    </tr>\n",
       "  </thead>\n",
       "  <tbody>\n",
       "    <tr>\n",
       "      <th>0</th>\n",
       "      <td>23</td>\n",
       "      <td>63</td>\n",
       "      <td>0</td>\n",
       "      <td>847</td>\n",
       "      <td>66</td>\n",
       "      <td>141</td>\n",
       "      <td>0.468</td>\n",
       "      <td>4</td>\n",
       "      <td>15</td>\n",
       "      <td>0.266667</td>\n",
       "      <td>...</td>\n",
       "      <td>53</td>\n",
       "      <td>0.660</td>\n",
       "      <td>72</td>\n",
       "      <td>144</td>\n",
       "      <td>216</td>\n",
       "      <td>28</td>\n",
       "      <td>23</td>\n",
       "      <td>26</td>\n",
       "      <td>30</td>\n",
       "      <td>122</td>\n",
       "    </tr>\n",
       "    <tr>\n",
       "      <th>1</th>\n",
       "      <td>20</td>\n",
       "      <td>81</td>\n",
       "      <td>20</td>\n",
       "      <td>1197</td>\n",
       "      <td>93</td>\n",
       "      <td>185</td>\n",
       "      <td>0.503</td>\n",
       "      <td>0</td>\n",
       "      <td>0</td>\n",
       "      <td>0.285111</td>\n",
       "      <td>...</td>\n",
       "      <td>136</td>\n",
       "      <td>0.581</td>\n",
       "      <td>142</td>\n",
       "      <td>190</td>\n",
       "      <td>332</td>\n",
       "      <td>43</td>\n",
       "      <td>40</td>\n",
       "      <td>57</td>\n",
       "      <td>71</td>\n",
       "      <td>203</td>\n",
       "    </tr>\n",
       "    <tr>\n",
       "      <th>2</th>\n",
       "      <td>27</td>\n",
       "      <td>53</td>\n",
       "      <td>12</td>\n",
       "      <td>961</td>\n",
       "      <td>143</td>\n",
       "      <td>275</td>\n",
       "      <td>0.520</td>\n",
       "      <td>0</td>\n",
       "      <td>0</td>\n",
       "      <td>0.285111</td>\n",
       "      <td>...</td>\n",
       "      <td>119</td>\n",
       "      <td>0.639</td>\n",
       "      <td>102</td>\n",
       "      <td>204</td>\n",
       "      <td>306</td>\n",
       "      <td>38</td>\n",
       "      <td>24</td>\n",
       "      <td>36</td>\n",
       "      <td>39</td>\n",
       "      <td>108</td>\n",
       "    </tr>\n",
       "    <tr>\n",
       "      <th>3</th>\n",
       "      <td>28</td>\n",
       "      <td>73</td>\n",
       "      <td>73</td>\n",
       "      <td>2552</td>\n",
       "      <td>464</td>\n",
       "      <td>1011</td>\n",
       "      <td>0.459</td>\n",
       "      <td>128</td>\n",
       "      <td>300</td>\n",
       "      <td>0.426667</td>\n",
       "      <td>...</td>\n",
       "      <td>336</td>\n",
       "      <td>0.815</td>\n",
       "      <td>32</td>\n",
       "      <td>230</td>\n",
       "      <td>262</td>\n",
       "      <td>248</td>\n",
       "      <td>35</td>\n",
       "      <td>3</td>\n",
       "      <td>146</td>\n",
       "      <td>136</td>\n",
       "    </tr>\n",
       "    <tr>\n",
       "      <th>4</th>\n",
       "      <td>25</td>\n",
       "      <td>56</td>\n",
       "      <td>30</td>\n",
       "      <td>951</td>\n",
       "      <td>136</td>\n",
       "      <td>249</td>\n",
       "      <td>0.546</td>\n",
       "      <td>0</td>\n",
       "      <td>1</td>\n",
       "      <td>0.000000</td>\n",
       "      <td>...</td>\n",
       "      <td>67</td>\n",
       "      <td>0.836</td>\n",
       "      <td>94</td>\n",
       "      <td>183</td>\n",
       "      <td>277</td>\n",
       "      <td>40</td>\n",
       "      <td>23</td>\n",
       "      <td>46</td>\n",
       "      <td>63</td>\n",
       "      <td>187</td>\n",
       "    </tr>\n",
       "  </tbody>\n",
       "</table>\n",
       "<p>5 rows × 25 columns</p>\n",
       "</div>"
      ],
      "text/plain": [
       "   age   g  gs    mp   fg   fga    fg.  x3p  x3pa      x3p. ...   fta    ft.  \\\n",
       "0   23  63   0   847   66   141  0.468    4    15  0.266667 ...    53  0.660   \n",
       "1   20  81  20  1197   93   185  0.503    0     0  0.285111 ...   136  0.581   \n",
       "2   27  53  12   961  143   275  0.520    0     0  0.285111 ...   119  0.639   \n",
       "3   28  73  73  2552  464  1011  0.459  128   300  0.426667 ...   336  0.815   \n",
       "4   25  56  30   951  136   249  0.546    0     1  0.000000 ...    67  0.836   \n",
       "\n",
       "   orb  drb  trb  ast  stl  blk  tov   pf  \n",
       "0   72  144  216   28   23   26   30  122  \n",
       "1  142  190  332   43   40   57   71  203  \n",
       "2  102  204  306   38   24   36   39  108  \n",
       "3   32  230  262  248   35    3  146  136  \n",
       "4   94  183  277   40   23   46   63  187  \n",
       "\n",
       "[5 rows x 25 columns]"
      ]
     },
     "execution_count": 13,
     "metadata": {},
     "output_type": "execute_result"
    }
   ],
   "source": [
    "X.head()"
   ]
  },
  {
   "cell_type": "code",
   "execution_count": 14,
   "metadata": {},
   "outputs": [],
   "source": [
    "X_train, X_test, y_train, y_test = train_test_split(X,Y,test_size=0.3,random_state=1)"
   ]
  },
  {
   "cell_type": "code",
   "execution_count": 15,
   "metadata": {},
   "outputs": [
    {
     "data": {
      "text/plain": [
       "KNeighborsRegressor(algorithm='auto', leaf_size=30, metric='minkowski',\n",
       "          metric_params=None, n_jobs=None, n_neighbors=5, p=2,\n",
       "          weights='uniform')"
      ]
     },
     "execution_count": 15,
     "metadata": {},
     "output_type": "execute_result"
    }
   ],
   "source": [
    "kncd = KNeighborsRegressor(n_neighbors = 5)\n",
    "kncd.fit(X_train, y_train)"
   ]
  },
  {
   "cell_type": "code",
   "execution_count": 16,
   "metadata": {},
   "outputs": [],
   "source": [
    "pred_test = kncd.predict(X_test)"
   ]
  },
  {
   "cell_type": "code",
   "execution_count": 17,
   "metadata": {},
   "outputs": [
    {
     "data": {
      "text/plain": [
       "50.58896551724138"
      ]
     },
     "execution_count": 17,
     "metadata": {},
     "output_type": "execute_result"
    }
   ],
   "source": [
    "mean_absolute_error(pred_test, y_test)"
   ]
  },
  {
   "cell_type": "code",
   "execution_count": 18,
   "metadata": {},
   "outputs": [
    {
     "data": {
      "text/plain": [
       "81.29486729354974"
      ]
     },
     "execution_count": 18,
     "metadata": {},
     "output_type": "execute_result"
    }
   ],
   "source": [
    "math.sqrt(mean_squared_error(pred_test, y_test))"
   ]
  },
  {
   "cell_type": "markdown",
   "metadata": {},
   "source": [
    "- Lets try another metric"
   ]
  },
  {
   "cell_type": "code",
   "execution_count": 19,
   "metadata": {},
   "outputs": [
    {
     "data": {
      "text/plain": [
       "KNeighborsRegressor(algorithm='auto', leaf_size=30, metric='cityblock',\n",
       "          metric_params=None, n_jobs=None, n_neighbors=5, p=2,\n",
       "          weights='uniform')"
      ]
     },
     "execution_count": 19,
     "metadata": {},
     "output_type": "execute_result"
    }
   ],
   "source": [
    "knc = KNeighborsRegressor(n_neighbors = 5, metric = 'cityblock')\n",
    "knc.fit(X_train, y_train)"
   ]
  },
  {
   "cell_type": "code",
   "execution_count": 20,
   "metadata": {},
   "outputs": [],
   "source": [
    "pred_test = knc.predict(X_test)"
   ]
  },
  {
   "cell_type": "code",
   "execution_count": 21,
   "metadata": {},
   "outputs": [
    {
     "data": {
      "text/plain": [
       "<matplotlib.axes._subplots.AxesSubplot at 0x2285fbe22b0>"
      ]
     },
     "execution_count": 21,
     "metadata": {},
     "output_type": "execute_result"
    },
    {
     "data": {
      "image/png": "[encoded data removed]",
      "text/plain": [
       "<Figure size 432x288 with 1 Axes>"
      ]
     },
     "metadata": {
      "needs_background": "light"
     },
     "output_type": "display_data"
    }
   ],
   "source": [
    "sns.scatterplot(pred_test,y_test)"
   ]
  },
  {
   "cell_type": "code",
   "execution_count": 22,
   "metadata": {},
   "outputs": [
    {
     "data": {
      "text/plain": [
       "44.54344827586206"
      ]
     },
     "execution_count": 22,
     "metadata": {},
     "output_type": "execute_result"
    }
   ],
   "source": [
    "mean_absolute_error(pred_test, y_test)"
   ]
  },
  {
   "cell_type": "code",
   "execution_count": 23,
   "metadata": {},
   "outputs": [
    {
     "data": {
      "text/plain": [
       "78.89273730832261"
      ]
     },
     "execution_count": 23,
     "metadata": {},
     "output_type": "execute_result"
    }
   ],
   "source": [
    "math.sqrt(mean_squared_error(pred_test, y_test))"
   ]
  },
  {
   "cell_type": "code",
   "execution_count": 24,
   "metadata": {},
   "outputs": [
    {
     "data": {
      "text/plain": [
       "[(315.8, 280),\n",
       " (443.8, 430),\n",
       " (135.6, 166),\n",
       " (295.8, 261),\n",
       " (328.2, 393),\n",
       " (22.8, 20),\n",
       " (267.4, 211),\n",
       " (76.8, 64),\n",
       " (419.0, 472),\n",
       " (478.8, 558),\n",
       " (335.6, 301),\n",
       " (1035.8, 1041),\n",
       " (179.4, 194),\n",
       " (536.6, 548),\n",
       " (564.6, 592),\n",
       " (1275.4, 1328),\n",
       " (449.2, 457),\n",
       " (804.0, 820),\n",
       " (84.8, 72),\n",
       " (783.0, 781),\n",
       " (264.8, 257),\n",
       " (200.0, 200),\n",
       " (156.2, 124),\n",
       " (10.2, 6),\n",
       " (269.2, 224),\n",
       " (633.6, 626),\n",
       " (1652.2, 1583),\n",
       " (794.8, 759),\n",
       " (316.8, 328),\n",
       " (76.8, 63),\n",
       " (1515.6, 1873),\n",
       " (99.6, 107),\n",
       " (848.2, 921),\n",
       " (735.2, 666),\n",
       " (1041.4, 998),\n",
       " (336.8, 414),\n",
       " (1003.8, 781),\n",
       " (276.6, 315),\n",
       " (1817.4, 1930),\n",
       " (1188.2, 1209),\n",
       " (1065.8, 1007),\n",
       " (172.8, 144),\n",
       " (89.6, 92),\n",
       " (113.8, 159),\n",
       " (100.6, 102),\n",
       " (807.0, 831),\n",
       " (152.8, 189),\n",
       " (132.0, 109),\n",
       " (1824.0, 2112),\n",
       " (173.8, 138),\n",
       " (158.6, 201),\n",
       " (1423.8, 1417),\n",
       " (131.8, 178),\n",
       " (17.0, 18),\n",
       " (16.0, 20),\n",
       " (954.8, 871),\n",
       " (360.6, 384),\n",
       " (349.2, 343),\n",
       " (218.8, 352),\n",
       " (75.6, 65),\n",
       " (1358.8, 1542),\n",
       " (9.8, 6),\n",
       " (2.2, 0),\n",
       " (403.8, 404),\n",
       " (430.0, 416),\n",
       " (1331.8, 1289),\n",
       " (131.6, 150),\n",
       " (551.4, 510),\n",
       " (68.0, 92),\n",
       " (1382.8, 1614),\n",
       " (901.0, 890),\n",
       " (1276.0, 1226),\n",
       " (666.6, 586),\n",
       " (220.8, 202),\n",
       " (919.0, 929),\n",
       " (301.2, 268),\n",
       " (804.8, 630),\n",
       " (1883.2, 2089),\n",
       " (2.8, 7),\n",
       " (489.8, 461),\n",
       " (999.6, 939),\n",
       " (12.2, 16),\n",
       " (326.8, 338),\n",
       " (205.0, 200),\n",
       " (81.8, 93),\n",
       " (1470.4, 1603),\n",
       " (12.2, 14),\n",
       " (41.0, 38),\n",
       " (65.0, 62),\n",
       " (427.8, 487),\n",
       " (0.4, 0),\n",
       " (1081.2, 1012),\n",
       " (142.4, 159),\n",
       " (0.6, 1),\n",
       " (1115.4, 1042),\n",
       " (179.0, 206),\n",
       " (427.8, 485),\n",
       " (246.4, 216),\n",
       " (310.2, 306),\n",
       " (338.6, 350),\n",
       " (116.4, 104),\n",
       " (691.2, 641),\n",
       " (184.4, 191),\n",
       " (972.8, 1047),\n",
       " (126.2, 140),\n",
       " (32.6, 28),\n",
       " (442.8, 403),\n",
       " (23.0, 15),\n",
       " (159.6, 177),\n",
       " (576.0, 603),\n",
       " (540.4, 499),\n",
       " (1644.4, 2010),\n",
       " (246.2, 214),\n",
       " (213.2, 249),\n",
       " (996.2, 1144),\n",
       " (89.6, 94),\n",
       " (900.4, 925),\n",
       " (7.0, 3),\n",
       " (120.0, 145),\n",
       " (1.2, 0),\n",
       " (52.4, 68),\n",
       " (1282.8, 1167),\n",
       " (92.8, 75),\n",
       " (495.4, 470),\n",
       " (1320.0, 1249),\n",
       " (87.8, 82),\n",
       " (75.0, 78),\n",
       " (1539.2, 1851),\n",
       " (989.6, 856),\n",
       " (800.2, 760),\n",
       " (89.6, 65),\n",
       " (30.8, 44),\n",
       " (1263.6, 1249),\n",
       " (356.8, 356),\n",
       " (1175.4, 1131),\n",
       " (13.2, 6),\n",
       " (1282.6, 1248),\n",
       " (73.0, 84),\n",
       " (558.2, 527),\n",
       " (1063.0, 1011),\n",
       " (284.4, 280),\n",
       " (553.8, 564),\n",
       " (449.0, 419),\n",
       " (73.0, 74),\n",
       " (186.2, 161)]"
      ]
     },
     "execution_count": 24,
     "metadata": {},
     "output_type": "execute_result"
    }
   ],
   "source": [
    "list(zip(pred_test, y_test))"
   ]
  },
  {
   "cell_type": "markdown",
   "metadata": {},
   "source": [
    "- output data is continuous so we have used regressor here.\n",
    "- by using n_neighbours = 5 and metric = 'cityblock', we are able to optimize the model by reducing the MAE to 44.5 and RMSE to 78.9."
   ]
  },
  {
   "cell_type": "code",
   "execution_count": null,
   "metadata": {},
   "outputs": [],
   "source": []
  },
  {
   "cell_type": "code",
   "execution_count": null,
   "metadata": {},
   "outputs": [],
   "source": []
  }
 ],
 "metadata": {
  "kernelspec": {
   "display_name": "Python 3",
   "language": "python",
   "name": "python3"
  },
  "language_info": {
   "codemirror_mode": {
    "name": "ipython",
    "version": 3
   },
   "file_extension": ".py",
   "mimetype": "text/x-python",
   "name": "python",
   "nbconvert_exporter": "python",
   "pygments_lexer": "ipython3",
   "version": "3.7.1"
  }
 },
 "nbformat": 4,
 "nbformat_minor": 2
}
